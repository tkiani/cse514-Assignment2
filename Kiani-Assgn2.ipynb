{
 "cells": [
  {
   "cell_type": "code",
   "execution_count": 1,
   "id": "9839ac5a",
   "metadata": {},
   "outputs": [],
   "source": [
    "import random\n",
    "import time\n",
    "import numpy as np\n",
    "import pandas as pd\n",
    "import matplotlib\n",
    "# import plotly.graph_objects as go\n",
    "import warnings\n",
    "warnings.filterwarnings('ignore')\n",
    "\n",
    "# from yaspin import yaspin\n",
    "from scipy.stats import loguniform\n",
    "# from sklearn_evaluation import plot\n",
    "from sklearn_evaluation.plot import grid_search\n",
    "from sklearn.ensemble import RandomForestClassifier\n",
    "from sklearn.tree import DecisionTreeClassifier\n",
    "from sklearn.svm import SVC\n",
    "from sklearn.experimental import enable_iterative_imputer\n",
    "from sklearn.impute import IterativeImputer\n",
    "from sklearn.model_selection import train_test_split, StratifiedKFold, GridSearchCV\n",
    "\n",
    "from sklearn.neural_network import MLPClassifier\n",
    "from sklearn.preprocessing import StandardScaler\n",
    "from PIL import Image as im\n",
    "from sklearn.linear_model import LogisticRegression\n",
    "from sklearn.metrics import classification_report, confusion_matrix\n",
    "from sklearn.naive_bayes import GaussianNB\n",
    "from sklearn.decomposition import PCA\n",
    "from sklearn.manifold import Isomap\n",
    "from sklearn.manifold import LocallyLinearEmbedding\n",
    "from sklearn.decomposition import TruncatedSVD\n",
    "from warnings import filterwarnings\n",
    "from matplotlib import pyplot as plt"
   ]
  },
  {
   "cell_type": "code",
   "execution_count": 2,
   "id": "ccc79777",
   "metadata": {},
   "outputs": [
    {
     "data": {
      "text/html": [
       "<div>\n",
       "<style scoped>\n",
       "    .dataframe tbody tr th:only-of-type {\n",
       "        vertical-align: middle;\n",
       "    }\n",
       "\n",
       "    .dataframe tbody tr th {\n",
       "        vertical-align: top;\n",
       "    }\n",
       "\n",
       "    .dataframe thead th {\n",
       "        text-align: right;\n",
       "    }\n",
       "</style>\n",
       "<table border=\"1\" class=\"dataframe\">\n",
       "  <thead>\n",
       "    <tr style=\"text-align: right;\">\n",
       "      <th></th>\n",
       "      <th>T</th>\n",
       "      <th>2</th>\n",
       "      <th>8</th>\n",
       "      <th>3</th>\n",
       "      <th>5</th>\n",
       "      <th>1</th>\n",
       "      <th>8.1</th>\n",
       "      <th>13</th>\n",
       "      <th>0</th>\n",
       "      <th>6</th>\n",
       "      <th>6.1</th>\n",
       "      <th>10</th>\n",
       "      <th>8.2</th>\n",
       "      <th>0.1</th>\n",
       "      <th>8.3</th>\n",
       "      <th>0.2</th>\n",
       "      <th>8.4</th>\n",
       "    </tr>\n",
       "  </thead>\n",
       "  <tbody>\n",
       "    <tr>\n",
       "      <th>0</th>\n",
       "      <td>I</td>\n",
       "      <td>5</td>\n",
       "      <td>12</td>\n",
       "      <td>3</td>\n",
       "      <td>7</td>\n",
       "      <td>2</td>\n",
       "      <td>10</td>\n",
       "      <td>5</td>\n",
       "      <td>5</td>\n",
       "      <td>4</td>\n",
       "      <td>13</td>\n",
       "      <td>3</td>\n",
       "      <td>9</td>\n",
       "      <td>2</td>\n",
       "      <td>8</td>\n",
       "      <td>4</td>\n",
       "      <td>10</td>\n",
       "    </tr>\n",
       "    <tr>\n",
       "      <th>1</th>\n",
       "      <td>D</td>\n",
       "      <td>4</td>\n",
       "      <td>11</td>\n",
       "      <td>6</td>\n",
       "      <td>8</td>\n",
       "      <td>6</td>\n",
       "      <td>10</td>\n",
       "      <td>6</td>\n",
       "      <td>2</td>\n",
       "      <td>6</td>\n",
       "      <td>10</td>\n",
       "      <td>3</td>\n",
       "      <td>7</td>\n",
       "      <td>3</td>\n",
       "      <td>7</td>\n",
       "      <td>3</td>\n",
       "      <td>9</td>\n",
       "    </tr>\n",
       "    <tr>\n",
       "      <th>2</th>\n",
       "      <td>N</td>\n",
       "      <td>7</td>\n",
       "      <td>11</td>\n",
       "      <td>6</td>\n",
       "      <td>6</td>\n",
       "      <td>3</td>\n",
       "      <td>5</td>\n",
       "      <td>9</td>\n",
       "      <td>4</td>\n",
       "      <td>6</td>\n",
       "      <td>4</td>\n",
       "      <td>4</td>\n",
       "      <td>10</td>\n",
       "      <td>6</td>\n",
       "      <td>10</td>\n",
       "      <td>2</td>\n",
       "      <td>8</td>\n",
       "    </tr>\n",
       "    <tr>\n",
       "      <th>3</th>\n",
       "      <td>G</td>\n",
       "      <td>2</td>\n",
       "      <td>1</td>\n",
       "      <td>3</td>\n",
       "      <td>1</td>\n",
       "      <td>1</td>\n",
       "      <td>8</td>\n",
       "      <td>6</td>\n",
       "      <td>6</td>\n",
       "      <td>6</td>\n",
       "      <td>6</td>\n",
       "      <td>5</td>\n",
       "      <td>9</td>\n",
       "      <td>1</td>\n",
       "      <td>7</td>\n",
       "      <td>5</td>\n",
       "      <td>10</td>\n",
       "    </tr>\n",
       "    <tr>\n",
       "      <th>4</th>\n",
       "      <td>S</td>\n",
       "      <td>4</td>\n",
       "      <td>11</td>\n",
       "      <td>5</td>\n",
       "      <td>8</td>\n",
       "      <td>3</td>\n",
       "      <td>8</td>\n",
       "      <td>8</td>\n",
       "      <td>6</td>\n",
       "      <td>9</td>\n",
       "      <td>5</td>\n",
       "      <td>6</td>\n",
       "      <td>6</td>\n",
       "      <td>0</td>\n",
       "      <td>8</td>\n",
       "      <td>9</td>\n",
       "      <td>7</td>\n",
       "    </tr>\n",
       "    <tr>\n",
       "      <th>...</th>\n",
       "      <td>...</td>\n",
       "      <td>...</td>\n",
       "      <td>...</td>\n",
       "      <td>...</td>\n",
       "      <td>...</td>\n",
       "      <td>...</td>\n",
       "      <td>...</td>\n",
       "      <td>...</td>\n",
       "      <td>...</td>\n",
       "      <td>...</td>\n",
       "      <td>...</td>\n",
       "      <td>...</td>\n",
       "      <td>...</td>\n",
       "      <td>...</td>\n",
       "      <td>...</td>\n",
       "      <td>...</td>\n",
       "      <td>...</td>\n",
       "    </tr>\n",
       "    <tr>\n",
       "      <th>19994</th>\n",
       "      <td>D</td>\n",
       "      <td>2</td>\n",
       "      <td>2</td>\n",
       "      <td>3</td>\n",
       "      <td>3</td>\n",
       "      <td>2</td>\n",
       "      <td>7</td>\n",
       "      <td>7</td>\n",
       "      <td>7</td>\n",
       "      <td>6</td>\n",
       "      <td>6</td>\n",
       "      <td>6</td>\n",
       "      <td>4</td>\n",
       "      <td>2</td>\n",
       "      <td>8</td>\n",
       "      <td>3</td>\n",
       "      <td>7</td>\n",
       "    </tr>\n",
       "    <tr>\n",
       "      <th>19995</th>\n",
       "      <td>C</td>\n",
       "      <td>7</td>\n",
       "      <td>10</td>\n",
       "      <td>8</td>\n",
       "      <td>8</td>\n",
       "      <td>4</td>\n",
       "      <td>4</td>\n",
       "      <td>8</td>\n",
       "      <td>6</td>\n",
       "      <td>9</td>\n",
       "      <td>12</td>\n",
       "      <td>9</td>\n",
       "      <td>13</td>\n",
       "      <td>2</td>\n",
       "      <td>9</td>\n",
       "      <td>3</td>\n",
       "      <td>7</td>\n",
       "    </tr>\n",
       "    <tr>\n",
       "      <th>19996</th>\n",
       "      <td>T</td>\n",
       "      <td>6</td>\n",
       "      <td>9</td>\n",
       "      <td>6</td>\n",
       "      <td>7</td>\n",
       "      <td>5</td>\n",
       "      <td>6</td>\n",
       "      <td>11</td>\n",
       "      <td>3</td>\n",
       "      <td>7</td>\n",
       "      <td>11</td>\n",
       "      <td>9</td>\n",
       "      <td>5</td>\n",
       "      <td>2</td>\n",
       "      <td>12</td>\n",
       "      <td>2</td>\n",
       "      <td>4</td>\n",
       "    </tr>\n",
       "    <tr>\n",
       "      <th>19997</th>\n",
       "      <td>S</td>\n",
       "      <td>2</td>\n",
       "      <td>3</td>\n",
       "      <td>4</td>\n",
       "      <td>2</td>\n",
       "      <td>1</td>\n",
       "      <td>8</td>\n",
       "      <td>7</td>\n",
       "      <td>2</td>\n",
       "      <td>6</td>\n",
       "      <td>10</td>\n",
       "      <td>6</td>\n",
       "      <td>8</td>\n",
       "      <td>1</td>\n",
       "      <td>9</td>\n",
       "      <td>5</td>\n",
       "      <td>8</td>\n",
       "    </tr>\n",
       "    <tr>\n",
       "      <th>19998</th>\n",
       "      <td>A</td>\n",
       "      <td>4</td>\n",
       "      <td>9</td>\n",
       "      <td>6</td>\n",
       "      <td>6</td>\n",
       "      <td>2</td>\n",
       "      <td>9</td>\n",
       "      <td>5</td>\n",
       "      <td>3</td>\n",
       "      <td>1</td>\n",
       "      <td>8</td>\n",
       "      <td>1</td>\n",
       "      <td>8</td>\n",
       "      <td>2</td>\n",
       "      <td>7</td>\n",
       "      <td>2</td>\n",
       "      <td>8</td>\n",
       "    </tr>\n",
       "  </tbody>\n",
       "</table>\n",
       "<p>19999 rows × 17 columns</p>\n",
       "</div>"
      ],
      "text/plain": [
       "       T  2   8  3  5  1  8.1  13  0  6  6.1  10  8.2  0.1  8.3  0.2  8.4\n",
       "0      I  5  12  3  7  2   10   5  5  4   13   3    9    2    8    4   10\n",
       "1      D  4  11  6  8  6   10   6  2  6   10   3    7    3    7    3    9\n",
       "2      N  7  11  6  6  3    5   9  4  6    4   4   10    6   10    2    8\n",
       "3      G  2   1  3  1  1    8   6  6  6    6   5    9    1    7    5   10\n",
       "4      S  4  11  5  8  3    8   8  6  9    5   6    6    0    8    9    7\n",
       "...   .. ..  .. .. .. ..  ...  .. .. ..  ...  ..  ...  ...  ...  ...  ...\n",
       "19994  D  2   2  3  3  2    7   7  7  6    6   6    4    2    8    3    7\n",
       "19995  C  7  10  8  8  4    4   8  6  9   12   9   13    2    9    3    7\n",
       "19996  T  6   9  6  7  5    6  11  3  7   11   9    5    2   12    2    4\n",
       "19997  S  2   3  4  2  1    8   7  2  6   10   6    8    1    9    5    8\n",
       "19998  A  4   9  6  6  2    9   5  3  1    8   1    8    2    7    2    8\n",
       "\n",
       "[19999 rows x 17 columns]"
      ]
     },
     "execution_count": 2,
     "metadata": {},
     "output_type": "execute_result"
    }
   ],
   "source": [
    "df = pd.read_csv(\"./utility/data/letter-recognition.data\")\n",
    "df"
   ]
  },
  {
   "cell_type": "code",
   "execution_count": 4,
   "id": "7ce5d2e1",
   "metadata": {},
   "outputs": [
    {
     "data": {
      "text/plain": [
       "Index(['T', '2', '8', '3', '5', '1', '8.1', '13', '0', '6', '6.1', '10', '8.2',\n",
       "       '0.1', '8.3', '0.2', '8.4'],\n",
       "      dtype='object')"
      ]
     },
     "execution_count": 4,
     "metadata": {},
     "output_type": "execute_result"
    }
   ],
   "source": [
    "df.columns"
   ]
  },
  {
   "cell_type": "code",
   "execution_count": 34,
   "id": "b367d6b9",
   "metadata": {},
   "outputs": [
    {
     "data": {
      "text/plain": [
       "array(['I', 'D', 'N', 'G', 'S', 'B', 'A', 'J', 'M', 'X', 'O', 'R', 'F',\n",
       "       'C', 'T', 'H', 'W', 'L', 'P', 'E', 'V', 'Y', 'Q', 'U', 'K', 'Z'],\n",
       "      dtype=object)"
      ]
     },
     "execution_count": 34,
     "metadata": {},
     "output_type": "execute_result"
    }
   ],
   "source": [
    "df['T'].unique()"
   ]
  },
  {
   "cell_type": "markdown",
   "id": "af55a76d",
   "metadata": {},
   "source": [
    "### Extracting Pair1 data"
   ]
  },
  {
   "cell_type": "code",
   "execution_count": 43,
   "id": "f0d25764",
   "metadata": {},
   "outputs": [
    {
     "data": {
      "text/html": [
       "<div>\n",
       "<style scoped>\n",
       "    .dataframe tbody tr th:only-of-type {\n",
       "        vertical-align: middle;\n",
       "    }\n",
       "\n",
       "    .dataframe tbody tr th {\n",
       "        vertical-align: top;\n",
       "    }\n",
       "\n",
       "    .dataframe thead th {\n",
       "        text-align: right;\n",
       "    }\n",
       "</style>\n",
       "<table border=\"1\" class=\"dataframe\">\n",
       "  <thead>\n",
       "    <tr style=\"text-align: right;\">\n",
       "      <th></th>\n",
       "      <th>T</th>\n",
       "      <th>2</th>\n",
       "      <th>8</th>\n",
       "      <th>3</th>\n",
       "      <th>5</th>\n",
       "      <th>1</th>\n",
       "      <th>8.1</th>\n",
       "      <th>13</th>\n",
       "      <th>0</th>\n",
       "      <th>6</th>\n",
       "      <th>6.1</th>\n",
       "      <th>10</th>\n",
       "      <th>8.2</th>\n",
       "      <th>0.1</th>\n",
       "      <th>8.3</th>\n",
       "      <th>0.2</th>\n",
       "      <th>8.4</th>\n",
       "    </tr>\n",
       "  </thead>\n",
       "  <tbody>\n",
       "    <tr>\n",
       "      <th>20</th>\n",
       "      <td>H</td>\n",
       "      <td>4</td>\n",
       "      <td>5</td>\n",
       "      <td>5</td>\n",
       "      <td>4</td>\n",
       "      <td>4</td>\n",
       "      <td>7</td>\n",
       "      <td>7</td>\n",
       "      <td>6</td>\n",
       "      <td>6</td>\n",
       "      <td>7</td>\n",
       "      <td>6</td>\n",
       "      <td>8</td>\n",
       "      <td>3</td>\n",
       "      <td>8</td>\n",
       "      <td>3</td>\n",
       "      <td>8</td>\n",
       "    </tr>\n",
       "    <tr>\n",
       "      <th>27</th>\n",
       "      <td>H</td>\n",
       "      <td>6</td>\n",
       "      <td>9</td>\n",
       "      <td>8</td>\n",
       "      <td>7</td>\n",
       "      <td>6</td>\n",
       "      <td>8</td>\n",
       "      <td>6</td>\n",
       "      <td>6</td>\n",
       "      <td>7</td>\n",
       "      <td>7</td>\n",
       "      <td>7</td>\n",
       "      <td>9</td>\n",
       "      <td>6</td>\n",
       "      <td>8</td>\n",
       "      <td>4</td>\n",
       "      <td>8</td>\n",
       "    </tr>\n",
       "    <tr>\n",
       "      <th>63</th>\n",
       "      <td>H</td>\n",
       "      <td>3</td>\n",
       "      <td>3</td>\n",
       "      <td>4</td>\n",
       "      <td>1</td>\n",
       "      <td>2</td>\n",
       "      <td>8</td>\n",
       "      <td>7</td>\n",
       "      <td>5</td>\n",
       "      <td>6</td>\n",
       "      <td>7</td>\n",
       "      <td>6</td>\n",
       "      <td>8</td>\n",
       "      <td>5</td>\n",
       "      <td>8</td>\n",
       "      <td>3</td>\n",
       "      <td>7</td>\n",
       "    </tr>\n",
       "    <tr>\n",
       "      <th>65</th>\n",
       "      <td>H</td>\n",
       "      <td>3</td>\n",
       "      <td>5</td>\n",
       "      <td>5</td>\n",
       "      <td>4</td>\n",
       "      <td>3</td>\n",
       "      <td>7</td>\n",
       "      <td>8</td>\n",
       "      <td>3</td>\n",
       "      <td>6</td>\n",
       "      <td>10</td>\n",
       "      <td>6</td>\n",
       "      <td>8</td>\n",
       "      <td>3</td>\n",
       "      <td>8</td>\n",
       "      <td>3</td>\n",
       "      <td>8</td>\n",
       "    </tr>\n",
       "    <tr>\n",
       "      <th>68</th>\n",
       "      <td>H</td>\n",
       "      <td>8</td>\n",
       "      <td>12</td>\n",
       "      <td>8</td>\n",
       "      <td>6</td>\n",
       "      <td>4</td>\n",
       "      <td>9</td>\n",
       "      <td>8</td>\n",
       "      <td>4</td>\n",
       "      <td>5</td>\n",
       "      <td>8</td>\n",
       "      <td>4</td>\n",
       "      <td>5</td>\n",
       "      <td>6</td>\n",
       "      <td>9</td>\n",
       "      <td>5</td>\n",
       "      <td>9</td>\n",
       "    </tr>\n",
       "    <tr>\n",
       "      <th>...</th>\n",
       "      <td>...</td>\n",
       "      <td>...</td>\n",
       "      <td>...</td>\n",
       "      <td>...</td>\n",
       "      <td>...</td>\n",
       "      <td>...</td>\n",
       "      <td>...</td>\n",
       "      <td>...</td>\n",
       "      <td>...</td>\n",
       "      <td>...</td>\n",
       "      <td>...</td>\n",
       "      <td>...</td>\n",
       "      <td>...</td>\n",
       "      <td>...</td>\n",
       "      <td>...</td>\n",
       "      <td>...</td>\n",
       "      <td>...</td>\n",
       "    </tr>\n",
       "    <tr>\n",
       "      <th>19920</th>\n",
       "      <td>K</td>\n",
       "      <td>7</td>\n",
       "      <td>14</td>\n",
       "      <td>8</td>\n",
       "      <td>8</td>\n",
       "      <td>5</td>\n",
       "      <td>9</td>\n",
       "      <td>6</td>\n",
       "      <td>3</td>\n",
       "      <td>5</td>\n",
       "      <td>11</td>\n",
       "      <td>3</td>\n",
       "      <td>7</td>\n",
       "      <td>5</td>\n",
       "      <td>7</td>\n",
       "      <td>4</td>\n",
       "      <td>8</td>\n",
       "    </tr>\n",
       "    <tr>\n",
       "      <th>19930</th>\n",
       "      <td>K</td>\n",
       "      <td>3</td>\n",
       "      <td>1</td>\n",
       "      <td>5</td>\n",
       "      <td>3</td>\n",
       "      <td>3</td>\n",
       "      <td>6</td>\n",
       "      <td>7</td>\n",
       "      <td>4</td>\n",
       "      <td>8</td>\n",
       "      <td>7</td>\n",
       "      <td>6</td>\n",
       "      <td>11</td>\n",
       "      <td>3</td>\n",
       "      <td>8</td>\n",
       "      <td>5</td>\n",
       "      <td>9</td>\n",
       "    </tr>\n",
       "    <tr>\n",
       "      <th>19936</th>\n",
       "      <td>H</td>\n",
       "      <td>3</td>\n",
       "      <td>8</td>\n",
       "      <td>5</td>\n",
       "      <td>6</td>\n",
       "      <td>4</td>\n",
       "      <td>8</td>\n",
       "      <td>8</td>\n",
       "      <td>7</td>\n",
       "      <td>7</td>\n",
       "      <td>7</td>\n",
       "      <td>5</td>\n",
       "      <td>7</td>\n",
       "      <td>3</td>\n",
       "      <td>8</td>\n",
       "      <td>3</td>\n",
       "      <td>7</td>\n",
       "    </tr>\n",
       "    <tr>\n",
       "      <th>19956</th>\n",
       "      <td>H</td>\n",
       "      <td>5</td>\n",
       "      <td>7</td>\n",
       "      <td>8</td>\n",
       "      <td>5</td>\n",
       "      <td>5</td>\n",
       "      <td>9</td>\n",
       "      <td>7</td>\n",
       "      <td>3</td>\n",
       "      <td>6</td>\n",
       "      <td>10</td>\n",
       "      <td>4</td>\n",
       "      <td>7</td>\n",
       "      <td>5</td>\n",
       "      <td>8</td>\n",
       "      <td>4</td>\n",
       "      <td>9</td>\n",
       "    </tr>\n",
       "    <tr>\n",
       "      <th>19977</th>\n",
       "      <td>K</td>\n",
       "      <td>5</td>\n",
       "      <td>11</td>\n",
       "      <td>5</td>\n",
       "      <td>8</td>\n",
       "      <td>5</td>\n",
       "      <td>3</td>\n",
       "      <td>8</td>\n",
       "      <td>7</td>\n",
       "      <td>3</td>\n",
       "      <td>6</td>\n",
       "      <td>4</td>\n",
       "      <td>11</td>\n",
       "      <td>3</td>\n",
       "      <td>8</td>\n",
       "      <td>2</td>\n",
       "      <td>11</td>\n",
       "    </tr>\n",
       "  </tbody>\n",
       "</table>\n",
       "<p>1473 rows × 17 columns</p>\n",
       "</div>"
      ],
      "text/plain": [
       "       T  2   8  3  5  1  8.1  13  0  6  6.1  10  8.2  0.1  8.3  0.2  8.4\n",
       "20     H  4   5  5  4  4    7   7  6  6    7   6    8    3    8    3    8\n",
       "27     H  6   9  8  7  6    8   6  6  7    7   7    9    6    8    4    8\n",
       "63     H  3   3  4  1  2    8   7  5  6    7   6    8    5    8    3    7\n",
       "65     H  3   5  5  4  3    7   8  3  6   10   6    8    3    8    3    8\n",
       "68     H  8  12  8  6  4    9   8  4  5    8   4    5    6    9    5    9\n",
       "...   .. ..  .. .. .. ..  ...  .. .. ..  ...  ..  ...  ...  ...  ...  ...\n",
       "19920  K  7  14  8  8  5    9   6  3  5   11   3    7    5    7    4    8\n",
       "19930  K  3   1  5  3  3    6   7  4  8    7   6   11    3    8    5    9\n",
       "19936  H  3   8  5  6  4    8   8  7  7    7   5    7    3    8    3    7\n",
       "19956  H  5   7  8  5  5    9   7  3  6   10   4    7    5    8    4    9\n",
       "19977  K  5  11  5  8  5    3   8  7  3    6   4   11    3    8    2   11\n",
       "\n",
       "[1473 rows x 17 columns]"
      ]
     },
     "execution_count": 43,
     "metadata": {},
     "output_type": "execute_result"
    }
   ],
   "source": [
    "pair1_data = df[(df['T'] == 'H') | (df['T'] == 'K')]\n",
    "pair1_data"
   ]
  },
  {
   "cell_type": "markdown",
   "id": "0911037c",
   "metadata": {},
   "source": [
    "### Extracting Pair2 data"
   ]
  },
  {
   "cell_type": "code",
   "execution_count": 44,
   "id": "b874aaac",
   "metadata": {},
   "outputs": [
    {
     "data": {
      "text/html": [
       "<div>\n",
       "<style scoped>\n",
       "    .dataframe tbody tr th:only-of-type {\n",
       "        vertical-align: middle;\n",
       "    }\n",
       "\n",
       "    .dataframe tbody tr th {\n",
       "        vertical-align: top;\n",
       "    }\n",
       "\n",
       "    .dataframe thead th {\n",
       "        text-align: right;\n",
       "    }\n",
       "</style>\n",
       "<table border=\"1\" class=\"dataframe\">\n",
       "  <thead>\n",
       "    <tr style=\"text-align: right;\">\n",
       "      <th></th>\n",
       "      <th>T</th>\n",
       "      <th>2</th>\n",
       "      <th>8</th>\n",
       "      <th>3</th>\n",
       "      <th>5</th>\n",
       "      <th>1</th>\n",
       "      <th>8.1</th>\n",
       "      <th>13</th>\n",
       "      <th>0</th>\n",
       "      <th>6</th>\n",
       "      <th>6.1</th>\n",
       "      <th>10</th>\n",
       "      <th>8.2</th>\n",
       "      <th>0.1</th>\n",
       "      <th>8.3</th>\n",
       "      <th>0.2</th>\n",
       "      <th>8.4</th>\n",
       "    </tr>\n",
       "  </thead>\n",
       "  <tbody>\n",
       "    <tr>\n",
       "      <th>8</th>\n",
       "      <td>M</td>\n",
       "      <td>11</td>\n",
       "      <td>15</td>\n",
       "      <td>13</td>\n",
       "      <td>9</td>\n",
       "      <td>7</td>\n",
       "      <td>13</td>\n",
       "      <td>2</td>\n",
       "      <td>6</td>\n",
       "      <td>2</td>\n",
       "      <td>12</td>\n",
       "      <td>1</td>\n",
       "      <td>9</td>\n",
       "      <td>8</td>\n",
       "      <td>1</td>\n",
       "      <td>1</td>\n",
       "      <td>8</td>\n",
       "    </tr>\n",
       "    <tr>\n",
       "      <th>12</th>\n",
       "      <td>M</td>\n",
       "      <td>6</td>\n",
       "      <td>9</td>\n",
       "      <td>8</td>\n",
       "      <td>6</td>\n",
       "      <td>9</td>\n",
       "      <td>7</td>\n",
       "      <td>8</td>\n",
       "      <td>6</td>\n",
       "      <td>5</td>\n",
       "      <td>7</td>\n",
       "      <td>5</td>\n",
       "      <td>8</td>\n",
       "      <td>8</td>\n",
       "      <td>9</td>\n",
       "      <td>8</td>\n",
       "      <td>6</td>\n",
       "    </tr>\n",
       "    <tr>\n",
       "      <th>25</th>\n",
       "      <td>M</td>\n",
       "      <td>7</td>\n",
       "      <td>11</td>\n",
       "      <td>11</td>\n",
       "      <td>8</td>\n",
       "      <td>9</td>\n",
       "      <td>3</td>\n",
       "      <td>8</td>\n",
       "      <td>4</td>\n",
       "      <td>5</td>\n",
       "      <td>10</td>\n",
       "      <td>11</td>\n",
       "      <td>10</td>\n",
       "      <td>10</td>\n",
       "      <td>9</td>\n",
       "      <td>5</td>\n",
       "      <td>7</td>\n",
       "    </tr>\n",
       "    <tr>\n",
       "      <th>33</th>\n",
       "      <td>M</td>\n",
       "      <td>6</td>\n",
       "      <td>9</td>\n",
       "      <td>9</td>\n",
       "      <td>7</td>\n",
       "      <td>6</td>\n",
       "      <td>5</td>\n",
       "      <td>6</td>\n",
       "      <td>3</td>\n",
       "      <td>5</td>\n",
       "      <td>10</td>\n",
       "      <td>9</td>\n",
       "      <td>9</td>\n",
       "      <td>8</td>\n",
       "      <td>5</td>\n",
       "      <td>2</td>\n",
       "      <td>7</td>\n",
       "    </tr>\n",
       "    <tr>\n",
       "      <th>49</th>\n",
       "      <td>Y</td>\n",
       "      <td>7</td>\n",
       "      <td>11</td>\n",
       "      <td>9</td>\n",
       "      <td>8</td>\n",
       "      <td>8</td>\n",
       "      <td>9</td>\n",
       "      <td>5</td>\n",
       "      <td>6</td>\n",
       "      <td>4</td>\n",
       "      <td>7</td>\n",
       "      <td>8</td>\n",
       "      <td>8</td>\n",
       "      <td>3</td>\n",
       "      <td>9</td>\n",
       "      <td>8</td>\n",
       "      <td>3</td>\n",
       "    </tr>\n",
       "    <tr>\n",
       "      <th>...</th>\n",
       "      <td>...</td>\n",
       "      <td>...</td>\n",
       "      <td>...</td>\n",
       "      <td>...</td>\n",
       "      <td>...</td>\n",
       "      <td>...</td>\n",
       "      <td>...</td>\n",
       "      <td>...</td>\n",
       "      <td>...</td>\n",
       "      <td>...</td>\n",
       "      <td>...</td>\n",
       "      <td>...</td>\n",
       "      <td>...</td>\n",
       "      <td>...</td>\n",
       "      <td>...</td>\n",
       "      <td>...</td>\n",
       "      <td>...</td>\n",
       "    </tr>\n",
       "    <tr>\n",
       "      <th>19939</th>\n",
       "      <td>Y</td>\n",
       "      <td>6</td>\n",
       "      <td>9</td>\n",
       "      <td>5</td>\n",
       "      <td>5</td>\n",
       "      <td>2</td>\n",
       "      <td>5</td>\n",
       "      <td>9</td>\n",
       "      <td>3</td>\n",
       "      <td>3</td>\n",
       "      <td>10</td>\n",
       "      <td>9</td>\n",
       "      <td>5</td>\n",
       "      <td>3</td>\n",
       "      <td>10</td>\n",
       "      <td>3</td>\n",
       "      <td>4</td>\n",
       "    </tr>\n",
       "    <tr>\n",
       "      <th>19948</th>\n",
       "      <td>M</td>\n",
       "      <td>5</td>\n",
       "      <td>8</td>\n",
       "      <td>7</td>\n",
       "      <td>6</td>\n",
       "      <td>7</td>\n",
       "      <td>8</td>\n",
       "      <td>6</td>\n",
       "      <td>6</td>\n",
       "      <td>5</td>\n",
       "      <td>7</td>\n",
       "      <td>7</td>\n",
       "      <td>10</td>\n",
       "      <td>11</td>\n",
       "      <td>6</td>\n",
       "      <td>2</td>\n",
       "      <td>9</td>\n",
       "    </tr>\n",
       "    <tr>\n",
       "      <th>19978</th>\n",
       "      <td>M</td>\n",
       "      <td>6</td>\n",
       "      <td>9</td>\n",
       "      <td>10</td>\n",
       "      <td>7</td>\n",
       "      <td>12</td>\n",
       "      <td>7</td>\n",
       "      <td>5</td>\n",
       "      <td>3</td>\n",
       "      <td>2</td>\n",
       "      <td>7</td>\n",
       "      <td>5</td>\n",
       "      <td>8</td>\n",
       "      <td>15</td>\n",
       "      <td>7</td>\n",
       "      <td>4</td>\n",
       "      <td>6</td>\n",
       "    </tr>\n",
       "    <tr>\n",
       "      <th>19981</th>\n",
       "      <td>Y</td>\n",
       "      <td>3</td>\n",
       "      <td>9</td>\n",
       "      <td>5</td>\n",
       "      <td>6</td>\n",
       "      <td>3</td>\n",
       "      <td>7</td>\n",
       "      <td>9</td>\n",
       "      <td>1</td>\n",
       "      <td>6</td>\n",
       "      <td>6</td>\n",
       "      <td>11</td>\n",
       "      <td>8</td>\n",
       "      <td>2</td>\n",
       "      <td>11</td>\n",
       "      <td>2</td>\n",
       "      <td>7</td>\n",
       "    </tr>\n",
       "    <tr>\n",
       "      <th>19984</th>\n",
       "      <td>M</td>\n",
       "      <td>5</td>\n",
       "      <td>6</td>\n",
       "      <td>8</td>\n",
       "      <td>4</td>\n",
       "      <td>5</td>\n",
       "      <td>9</td>\n",
       "      <td>6</td>\n",
       "      <td>2</td>\n",
       "      <td>4</td>\n",
       "      <td>9</td>\n",
       "      <td>5</td>\n",
       "      <td>7</td>\n",
       "      <td>8</td>\n",
       "      <td>6</td>\n",
       "      <td>2</td>\n",
       "      <td>8</td>\n",
       "    </tr>\n",
       "  </tbody>\n",
       "</table>\n",
       "<p>1578 rows × 17 columns</p>\n",
       "</div>"
      ],
      "text/plain": [
       "       T   2   8   3  5   1  8.1  13  0  6  6.1  10  8.2  0.1  8.3  0.2  8.4\n",
       "8      M  11  15  13  9   7   13   2  6  2   12   1    9    8    1    1    8\n",
       "12     M   6   9   8  6   9    7   8  6  5    7   5    8    8    9    8    6\n",
       "25     M   7  11  11  8   9    3   8  4  5   10  11   10   10    9    5    7\n",
       "33     M   6   9   9  7   6    5   6  3  5   10   9    9    8    5    2    7\n",
       "49     Y   7  11   9  8   8    9   5  6  4    7   8    8    3    9    8    3\n",
       "...   ..  ..  ..  .. ..  ..  ...  .. .. ..  ...  ..  ...  ...  ...  ...  ...\n",
       "19939  Y   6   9   5  5   2    5   9  3  3   10   9    5    3   10    3    4\n",
       "19948  M   5   8   7  6   7    8   6  6  5    7   7   10   11    6    2    9\n",
       "19978  M   6   9  10  7  12    7   5  3  2    7   5    8   15    7    4    6\n",
       "19981  Y   3   9   5  6   3    7   9  1  6    6  11    8    2   11    2    7\n",
       "19984  M   5   6   8  4   5    9   6  2  4    9   5    7    8    6    2    8\n",
       "\n",
       "[1578 rows x 17 columns]"
      ]
     },
     "execution_count": 44,
     "metadata": {},
     "output_type": "execute_result"
    }
   ],
   "source": [
    "pair2_data = df[(df['T'] == 'M') | (df['T'] == 'Y')]\n",
    "pair2_data"
   ]
  },
  {
   "cell_type": "markdown",
   "id": "58ab74ac",
   "metadata": {},
   "source": [
    "### Extracting Pair3 data"
   ]
  },
  {
   "cell_type": "code",
   "execution_count": 45,
   "id": "bd8dc568",
   "metadata": {},
   "outputs": [
    {
     "data": {
      "text/html": [
       "<div>\n",
       "<style scoped>\n",
       "    .dataframe tbody tr th:only-of-type {\n",
       "        vertical-align: middle;\n",
       "    }\n",
       "\n",
       "    .dataframe tbody tr th {\n",
       "        vertical-align: top;\n",
       "    }\n",
       "\n",
       "    .dataframe thead th {\n",
       "        text-align: right;\n",
       "    }\n",
       "</style>\n",
       "<table border=\"1\" class=\"dataframe\">\n",
       "  <thead>\n",
       "    <tr style=\"text-align: right;\">\n",
       "      <th></th>\n",
       "      <th>T</th>\n",
       "      <th>2</th>\n",
       "      <th>8</th>\n",
       "      <th>3</th>\n",
       "      <th>5</th>\n",
       "      <th>1</th>\n",
       "      <th>8.1</th>\n",
       "      <th>13</th>\n",
       "      <th>0</th>\n",
       "      <th>6</th>\n",
       "      <th>6.1</th>\n",
       "      <th>10</th>\n",
       "      <th>8.2</th>\n",
       "      <th>0.1</th>\n",
       "      <th>8.3</th>\n",
       "      <th>0.2</th>\n",
       "      <th>8.4</th>\n",
       "    </tr>\n",
       "  </thead>\n",
       "  <tbody>\n",
       "    <tr>\n",
       "      <th>5</th>\n",
       "      <td>B</td>\n",
       "      <td>4</td>\n",
       "      <td>2</td>\n",
       "      <td>5</td>\n",
       "      <td>4</td>\n",
       "      <td>4</td>\n",
       "      <td>8</td>\n",
       "      <td>7</td>\n",
       "      <td>6</td>\n",
       "      <td>6</td>\n",
       "      <td>7</td>\n",
       "      <td>6</td>\n",
       "      <td>6</td>\n",
       "      <td>2</td>\n",
       "      <td>8</td>\n",
       "      <td>7</td>\n",
       "      <td>10</td>\n",
       "    </tr>\n",
       "    <tr>\n",
       "      <th>6</th>\n",
       "      <td>A</td>\n",
       "      <td>1</td>\n",
       "      <td>1</td>\n",
       "      <td>3</td>\n",
       "      <td>2</td>\n",
       "      <td>1</td>\n",
       "      <td>8</td>\n",
       "      <td>2</td>\n",
       "      <td>2</td>\n",
       "      <td>2</td>\n",
       "      <td>8</td>\n",
       "      <td>2</td>\n",
       "      <td>8</td>\n",
       "      <td>1</td>\n",
       "      <td>6</td>\n",
       "      <td>2</td>\n",
       "      <td>7</td>\n",
       "    </tr>\n",
       "    <tr>\n",
       "      <th>32</th>\n",
       "      <td>B</td>\n",
       "      <td>5</td>\n",
       "      <td>9</td>\n",
       "      <td>7</td>\n",
       "      <td>7</td>\n",
       "      <td>10</td>\n",
       "      <td>9</td>\n",
       "      <td>8</td>\n",
       "      <td>4</td>\n",
       "      <td>4</td>\n",
       "      <td>6</td>\n",
       "      <td>8</td>\n",
       "      <td>6</td>\n",
       "      <td>6</td>\n",
       "      <td>11</td>\n",
       "      <td>8</td>\n",
       "      <td>7</td>\n",
       "    </tr>\n",
       "    <tr>\n",
       "      <th>77</th>\n",
       "      <td>A</td>\n",
       "      <td>3</td>\n",
       "      <td>7</td>\n",
       "      <td>5</td>\n",
       "      <td>5</td>\n",
       "      <td>3</td>\n",
       "      <td>12</td>\n",
       "      <td>2</td>\n",
       "      <td>3</td>\n",
       "      <td>2</td>\n",
       "      <td>10</td>\n",
       "      <td>2</td>\n",
       "      <td>9</td>\n",
       "      <td>2</td>\n",
       "      <td>6</td>\n",
       "      <td>3</td>\n",
       "      <td>8</td>\n",
       "    </tr>\n",
       "    <tr>\n",
       "      <th>117</th>\n",
       "      <td>A</td>\n",
       "      <td>3</td>\n",
       "      <td>8</td>\n",
       "      <td>5</td>\n",
       "      <td>6</td>\n",
       "      <td>3</td>\n",
       "      <td>9</td>\n",
       "      <td>2</td>\n",
       "      <td>2</td>\n",
       "      <td>3</td>\n",
       "      <td>8</td>\n",
       "      <td>2</td>\n",
       "      <td>8</td>\n",
       "      <td>2</td>\n",
       "      <td>6</td>\n",
       "      <td>3</td>\n",
       "      <td>7</td>\n",
       "    </tr>\n",
       "    <tr>\n",
       "      <th>...</th>\n",
       "      <td>...</td>\n",
       "      <td>...</td>\n",
       "      <td>...</td>\n",
       "      <td>...</td>\n",
       "      <td>...</td>\n",
       "      <td>...</td>\n",
       "      <td>...</td>\n",
       "      <td>...</td>\n",
       "      <td>...</td>\n",
       "      <td>...</td>\n",
       "      <td>...</td>\n",
       "      <td>...</td>\n",
       "      <td>...</td>\n",
       "      <td>...</td>\n",
       "      <td>...</td>\n",
       "      <td>...</td>\n",
       "      <td>...</td>\n",
       "    </tr>\n",
       "    <tr>\n",
       "      <th>19950</th>\n",
       "      <td>A</td>\n",
       "      <td>6</td>\n",
       "      <td>10</td>\n",
       "      <td>7</td>\n",
       "      <td>6</td>\n",
       "      <td>3</td>\n",
       "      <td>12</td>\n",
       "      <td>0</td>\n",
       "      <td>4</td>\n",
       "      <td>1</td>\n",
       "      <td>11</td>\n",
       "      <td>4</td>\n",
       "      <td>12</td>\n",
       "      <td>4</td>\n",
       "      <td>4</td>\n",
       "      <td>3</td>\n",
       "      <td>11</td>\n",
       "    </tr>\n",
       "    <tr>\n",
       "      <th>19961</th>\n",
       "      <td>B</td>\n",
       "      <td>4</td>\n",
       "      <td>8</td>\n",
       "      <td>6</td>\n",
       "      <td>6</td>\n",
       "      <td>5</td>\n",
       "      <td>7</td>\n",
       "      <td>8</td>\n",
       "      <td>6</td>\n",
       "      <td>6</td>\n",
       "      <td>10</td>\n",
       "      <td>6</td>\n",
       "      <td>6</td>\n",
       "      <td>3</td>\n",
       "      <td>8</td>\n",
       "      <td>7</td>\n",
       "      <td>8</td>\n",
       "    </tr>\n",
       "    <tr>\n",
       "      <th>19965</th>\n",
       "      <td>A</td>\n",
       "      <td>2</td>\n",
       "      <td>3</td>\n",
       "      <td>3</td>\n",
       "      <td>1</td>\n",
       "      <td>1</td>\n",
       "      <td>6</td>\n",
       "      <td>2</td>\n",
       "      <td>2</td>\n",
       "      <td>1</td>\n",
       "      <td>5</td>\n",
       "      <td>2</td>\n",
       "      <td>8</td>\n",
       "      <td>1</td>\n",
       "      <td>6</td>\n",
       "      <td>1</td>\n",
       "      <td>7</td>\n",
       "    </tr>\n",
       "    <tr>\n",
       "      <th>19976</th>\n",
       "      <td>A</td>\n",
       "      <td>3</td>\n",
       "      <td>9</td>\n",
       "      <td>5</td>\n",
       "      <td>6</td>\n",
       "      <td>2</td>\n",
       "      <td>6</td>\n",
       "      <td>5</td>\n",
       "      <td>3</td>\n",
       "      <td>1</td>\n",
       "      <td>6</td>\n",
       "      <td>1</td>\n",
       "      <td>8</td>\n",
       "      <td>2</td>\n",
       "      <td>7</td>\n",
       "      <td>2</td>\n",
       "      <td>7</td>\n",
       "    </tr>\n",
       "    <tr>\n",
       "      <th>19998</th>\n",
       "      <td>A</td>\n",
       "      <td>4</td>\n",
       "      <td>9</td>\n",
       "      <td>6</td>\n",
       "      <td>6</td>\n",
       "      <td>2</td>\n",
       "      <td>9</td>\n",
       "      <td>5</td>\n",
       "      <td>3</td>\n",
       "      <td>1</td>\n",
       "      <td>8</td>\n",
       "      <td>1</td>\n",
       "      <td>8</td>\n",
       "      <td>2</td>\n",
       "      <td>7</td>\n",
       "      <td>2</td>\n",
       "      <td>8</td>\n",
       "    </tr>\n",
       "  </tbody>\n",
       "</table>\n",
       "<p>1555 rows × 17 columns</p>\n",
       "</div>"
      ],
      "text/plain": [
       "       T  2   8  3  5   1  8.1  13  0  6  6.1  10  8.2  0.1  8.3  0.2  8.4\n",
       "5      B  4   2  5  4   4    8   7  6  6    7   6    6    2    8    7   10\n",
       "6      A  1   1  3  2   1    8   2  2  2    8   2    8    1    6    2    7\n",
       "32     B  5   9  7  7  10    9   8  4  4    6   8    6    6   11    8    7\n",
       "77     A  3   7  5  5   3   12   2  3  2   10   2    9    2    6    3    8\n",
       "117    A  3   8  5  6   3    9   2  2  3    8   2    8    2    6    3    7\n",
       "...   .. ..  .. .. ..  ..  ...  .. .. ..  ...  ..  ...  ...  ...  ...  ...\n",
       "19950  A  6  10  7  6   3   12   0  4  1   11   4   12    4    4    3   11\n",
       "19961  B  4   8  6  6   5    7   8  6  6   10   6    6    3    8    7    8\n",
       "19965  A  2   3  3  1   1    6   2  2  1    5   2    8    1    6    1    7\n",
       "19976  A  3   9  5  6   2    6   5  3  1    6   1    8    2    7    2    7\n",
       "19998  A  4   9  6  6   2    9   5  3  1    8   1    8    2    7    2    8\n",
       "\n",
       "[1555 rows x 17 columns]"
      ]
     },
     "execution_count": 45,
     "metadata": {},
     "output_type": "execute_result"
    }
   ],
   "source": [
    "pair3_data = df[(df['T'] == 'A') | (df['T'] == 'B')]\n",
    "pair3_data"
   ]
  },
  {
   "cell_type": "markdown",
   "id": "428659fd",
   "metadata": {},
   "source": [
    "### Seperate the data into X and y"
   ]
  },
  {
   "cell_type": "code",
   "execution_count": 46,
   "id": "975d7356",
   "metadata": {},
   "outputs": [],
   "source": [
    "X_pair1 = pair1_data.drop(columns = 'T')\n",
    "y_pair1 = pair1_data['T']"
   ]
  },
  {
   "cell_type": "code",
   "execution_count": 47,
   "id": "bdd177d0",
   "metadata": {},
   "outputs": [],
   "source": [
    "X_pair2 = pair2_data.drop(columns = 'T')\n",
    "y_pair2 = pair2_data['T']"
   ]
  },
  {
   "cell_type": "code",
   "execution_count": 48,
   "id": "7cb72996",
   "metadata": {},
   "outputs": [],
   "source": [
    "X_pair3 = pair3_data.drop(columns = 'T')\n",
    "y_pair3 = pair3_data['T']"
   ]
  },
  {
   "cell_type": "markdown",
   "id": "08abc225",
   "metadata": {},
   "source": [
    "### For each pair, set aside 10% of the relevant samples to use as a final validation set"
   ]
  },
  {
   "cell_type": "code",
   "execution_count": 49,
   "id": "bd530359",
   "metadata": {},
   "outputs": [],
   "source": [
    "X_pair1_train, X_pair1_test, y_pair1_train, y_pair1_test = train_test_split(X_pair1, y_pair1, test_size=0.1)"
   ]
  },
  {
   "cell_type": "code",
   "execution_count": 50,
   "id": "1994bbb9",
   "metadata": {},
   "outputs": [],
   "source": [
    "X_pair2_train, X_pair2_test, y_pair2_train, y_pair2_test = train_test_split(X_pair2, y_pair2, test_size=0.1)"
   ]
  },
  {
   "cell_type": "code",
   "execution_count": 51,
   "id": "f08dc475",
   "metadata": {},
   "outputs": [],
   "source": [
    "X_pair3_train, X_pair3_test, y_pair3_train, y_pair3_test = train_test_split(X_pair3, y_pair3, test_size=0.1)"
   ]
  },
  {
   "cell_type": "code",
   "execution_count": 59,
   "id": "69525678",
   "metadata": {},
   "outputs": [
    {
     "name": "stdout",
     "output_type": "stream",
     "text": [
      "Pair 1 size (1473, 16)\n",
      "Pair 2 size (1578, 16)\n",
      "Pair 3 size (1555, 16)\n"
     ]
    }
   ],
   "source": [
    "print(\"Pair 1 size\" , X_pair1.shape)\n",
    "print(\"Pair 2 size\" , X_pair2.shape)\n",
    "print(\"Pair 3 size\" , X_pair3.shape)"
   ]
  },
  {
   "cell_type": "code",
   "execution_count": 56,
   "id": "3a188ab0",
   "metadata": {},
   "outputs": [
    {
     "name": "stdout",
     "output_type": "stream",
     "text": [
      "Pair 1 training size (1325, 16)\n",
      "Pair 2 training size (1420, 16)\n",
      "Pair 3 training size (1399, 16)\n"
     ]
    }
   ],
   "source": [
    "print(\"Pair 1 training size\" , X_pair1_train.shape)\n",
    "print(\"Pair 2 training size\" , X_pair2_train.shape)\n",
    "print(\"Pair 3 training size\" , X_pair3_train.shape)"
   ]
  },
  {
   "cell_type": "code",
   "execution_count": 57,
   "id": "1645ca4a",
   "metadata": {},
   "outputs": [
    {
     "name": "stdout",
     "output_type": "stream",
     "text": [
      "Pair 1 testing size (148, 16)\n",
      "Pair 2 testing size (158, 16)\n",
      "Pair 3 testing size (156, 16)\n"
     ]
    }
   ],
   "source": [
    "print(\"Pair 1 testing size\" , X_pair1_test.shape)\n",
    "print(\"Pair 2 testing size\" , X_pair2_test.shape)\n",
    "print(\"Pair 3 testing size\" , X_pair3_test.shape)"
   ]
  },
  {
   "cell_type": "markdown",
   "id": "2a685192",
   "metadata": {},
   "source": [
    "### Graph Functions"
   ]
  },
  {
   "cell_type": "code",
   "execution_count": 95,
   "id": "86854771",
   "metadata": {},
   "outputs": [],
   "source": [
    "# Method taken from https://stackoverflow.com/questions/37161563/how-to-graph-grid-scores-from-gridsearchcv\n",
    "# Credit: sus_hml\n",
    "\n",
    "def plot_search_results(grid):\n",
    "\n",
    "    ## Results from grid search\n",
    "    results = grid.cv_results_\n",
    "    means_test = results['mean_test_score']\n",
    "    stds_test = results['std_test_score']\n",
    "\n",
    "    ## Getting indexes of values per hyper-parameter\n",
    "    masks=[]\n",
    "    masks_names= list(grid.best_params_.keys())\n",
    "    for p_k, p_v in grid.best_params_.items():\n",
    "        masks.append(list(results['param_'+p_k].data==p_v))\n",
    "\n",
    "    params=grid.param_grid\n",
    "\n",
    "    ## Ploting results\n",
    "    fig, ax = plt.subplots(1,len(params),sharex='none', sharey='all',figsize=(20,5))\n",
    "    fig.suptitle('Score per parameter')\n",
    "    fig.text(0.04, 0.5, 'Accuracy', va='center', rotation='vertical')\n",
    "    for i, p in enumerate(masks_names):\n",
    "        m = np.stack(masks[:i] + masks[i+1:])\n",
    "        best_parms_mask = m.all(axis=0)\n",
    "        best_index = np.where(best_parms_mask)[0]\n",
    "        x = np.array(params[p])\n",
    "        y_1 = np.array(means_test[best_index])\n",
    "        e_1 = np.array(stds_test[best_index])\n",
    "        ax[i].errorbar(x, y_1, e_1,linestyle='--', marker='o')\n",
    "        ax[i].set_xlabel(p.upper())\n",
    "    \n",
    "    plt.show()"
   ]
  },
  {
   "cell_type": "markdown",
   "id": "429391d0",
   "metadata": {},
   "source": [
    "# Model Fitting"
   ]
  },
  {
   "cell_type": "markdown",
   "id": "669f5b52",
   "metadata": {},
   "source": [
    "## K-Nearest Neighbors"
   ]
  },
  {
   "cell_type": "code",
   "execution_count": 96,
   "id": "128e7e70",
   "metadata": {},
   "outputs": [
    {
     "name": "stdout",
     "output_type": "stream",
     "text": [
      "Result for first set:  {'n_neighbors': 5, 'p': 1}\n",
      "Best score for first set:  0.9554716981132076\n",
      "Result for second set:  {'n_neighbors': 1, 'p': 2}\n",
      "Best score for first set:  0.9992957746478874\n",
      "Result for third set:  {'n_neighbors': 1, 'p': 2}\n",
      "Best score for first set:  1.0\n"
     ]
    }
   ],
   "source": [
    "from sklearn.neighbors import KNeighborsClassifier\n",
    "\n",
    "hyperParameter = [1, 2, 3, 4, 5, 6, 7]\n",
    "nNeighbors = [1, 3, 5, 7, 9]\n",
    "\n",
    "tune_hyper = dict(p = hyperParameter, n_neighbors = nNeighbors)\n",
    "\n",
    "knnModel = KNeighborsClassifier()\n",
    "\n",
    "pair1_knnModel = GridSearchCV(knnModel, tune_hyper, cv=5)\n",
    "pair2_knnModel = GridSearchCV(knnModel, tune_hyper, cv=5)\n",
    "pair3_knnModel = GridSearchCV(knnModel, tune_hyper, cv=5)\n",
    "\n",
    "pair1_knnModel_fit = pair1_knnModel.fit(X_pair1_train, y_pair1_train)\n",
    "print(\"Result for first set: \", pair1_knnModel_fit.best_params_)\n",
    "print(\"Best score for first set: \", pair1_knnModel_fit.best_score_)\n",
    "print(\"\")\n",
    "pair2_knnModel_fit = pair2_knnModel.fit(X_pair2_train, y_pair2_train)\n",
    "print(\"Result for second set: \", pair2_knnModel_fit.best_params_)\n",
    "print(\"Best score for first set: \", pair2_knnModel_fit.best_score_)\n",
    "print(\"\")\n",
    "pair3_knnModel_fit = pair3_knnModel.fit(X_pair3_train, y_pair3_train)\n",
    "print('Result for third set: ', pair3_knnModel_fit.best_params_)\n",
    "print(\"Best score for first set: \", pair3_knnModel_fit.best_score_)"
   ]
  },
  {
   "cell_type": "markdown",
   "id": "144e23a6",
   "metadata": {},
   "source": [
    "### Graphs of the cross validation results for KNN"
   ]
  },
  {
   "cell_type": "markdown",
   "id": "eb314dc6",
   "metadata": {},
   "source": [
    "### Pair 1 Graph for KNN"
   ]
  },
  {
   "cell_type": "code",
   "execution_count": 97,
   "id": "24706cf8",
   "metadata": {},
   "outputs": [
    {
     "data": {
      "image/png": "[encoded data removed]",
      "text/plain": [
       "<Figure size 432x288 with 1 Axes>"
      ]
     },
     "metadata": {
      "needs_background": "light"
     },
     "output_type": "display_data"
    },
    {
     "data": {
      "image/png": "[encoded data removed]",
      "text/plain": [
       "<Figure size 1440x360 with 2 Axes>"
      ]
     },
     "metadata": {
      "needs_background": "light"
     },
     "output_type": "display_data"
    }
   ],
   "source": [
    "grid_search(pair1_knnModel_fit.cv_results_, change='n_neighbors', kind='bar')\n",
    "plt.ylim((0.90, 1))\n",
    "plt.show()\n",
    "\n",
    "plot_search_results(pair1_knnModel_fit)"
   ]
  },
  {
   "cell_type": "markdown",
   "id": "3cf03c72",
   "metadata": {},
   "source": [
    "### Pair 2 Graph for KNN"
   ]
  },
  {
   "cell_type": "code",
   "execution_count": 93,
   "id": "5bc112e8",
   "metadata": {},
   "outputs": [
    {
     "data": {
      "image/png": "[encoded data removed]",
      "text/plain": [
       "<Figure size 432x288 with 1 Axes>"
      ]
     },
     "metadata": {
      "needs_background": "light"
     },
     "output_type": "display_data"
    },
    {
     "data": {
      "image/png": "[encoded data removed]",
      "text/plain": [
       "<Figure size 1440x360 with 2 Axes>"
      ]
     },
     "metadata": {
      "needs_background": "light"
     },
     "output_type": "display_data"
    }
   ],
   "source": [
    "grid_search(pair2_knnModel_fit.cv_results_, change='n_neighbors', kind='bar')\n",
    "plt.ylim((0.90, 1))\n",
    "plt.show()\n",
    "\n",
    "plot_search_results(pair2_knnModel_fit)"
   ]
  },
  {
   "cell_type": "markdown",
   "id": "1d8a3468",
   "metadata": {},
   "source": [
    "### Pair 3 Graph for KNN"
   ]
  },
  {
   "cell_type": "code",
   "execution_count": 94,
   "id": "01895a98",
   "metadata": {},
   "outputs": [
    {
     "data": {
      "image/png": "[encoded data removed]",
      "text/plain": [
       "<Figure size 432x288 with 1 Axes>"
      ]
     },
     "metadata": {
      "needs_background": "light"
     },
     "output_type": "display_data"
    },
    {
     "data": {
      "image/png": "[encoded data removed]",
      "text/plain": [
       "<Figure size 1440x360 with 2 Axes>"
      ]
     },
     "metadata": {
      "needs_background": "light"
     },
     "output_type": "display_data"
    }
   ],
   "source": [
    "grid_search(pair3_knnModel_fit.cv_results_, change='n_neighbors', kind='bar')\n",
    "plt.ylim((0.90, 1))\n",
    "plt.show()\n",
    "\n",
    "plot_search_results(pair3_knnModel_fit)"
   ]
  },
  {
   "cell_type": "markdown",
   "id": "8fba8778",
   "metadata": {},
   "source": [
    "## Decision Tree"
   ]
  },
  {
   "cell_type": "code",
   "execution_count": 113,
   "id": "9f11dbec",
   "metadata": {},
   "outputs": [
    {
     "name": "stdout",
     "output_type": "stream",
     "text": [
      "Result for first set:  {'max_depth': 10, 'max_features': 'auto'}\n",
      "Score for first set:  0.9252830188679244\n",
      "\n",
      "Result for second set:  {'max_depth': 10, 'max_features': 'auto'}\n",
      "Score for first set:  0.9901408450704225\n",
      "\n",
      "Result for third set:  {'max_depth': 10, 'max_features': 'log2'}\n",
      "Score for first set:  0.9914183307731695\n"
     ]
    }
   ],
   "source": [
    "max_depth = [2,4,6,8,10]\n",
    "max_features = ['auto', 'sqrt', 'log2']\n",
    "tune_hyper_1 = dict(max_depth=max_depth, max_features=max_features)\n",
    "\n",
    "dTreeModel = DecisionTreeClassifier()\n",
    "\n",
    "pair1_dTreeModel = GridSearchCV(dTreeModel, tune_hyper_1, cv=5)\n",
    "pair2_dTreeModel = GridSearchCV(dTreeModel, tune_hyper_1, cv=5)\n",
    "pair3_dTreeModel = GridSearchCV(dTreeModel, tune_hyper_1, cv=5)\n",
    "\n",
    "\n",
    "pair1_dTreeModel_fit = pair1_dTreeModel.fit(X_pair1_train, y_pair1_train)\n",
    "print(\"Result for first set: \", pair1_dTreeModel_fit.best_params_)\n",
    "print(\"Score for first set: \", pair1_dTreeModel_fit.best_score_)\n",
    "print(\"\")\n",
    "pair2_dTreeModel_fit = pair2_dTreeModel.fit(X_pair2_train, y_pair2_train)\n",
    "print('Result for second set: ', pair2_dTreeModel_fit.best_params_)\n",
    "print(\"Score for first set: \", pair2_dTreeModel_fit.best_score_)\n",
    "print(\"\")\n",
    "pair3_dTreeModel_fit = pair3_dTreeModel.fit(X_pair3_train, y_pair3_train)\n",
    "print('Result for third set: ', pair3_dTreeModel_fit.best_params_)\n",
    "print(\"Score for first set: \", pair3_dTreeModel_fit.best_score_)\n"
   ]
  },
  {
   "cell_type": "markdown",
   "id": "d3d27ead",
   "metadata": {},
   "source": [
    "### Graphs of the cross validation results for Decision Tree"
   ]
  },
  {
   "cell_type": "markdown",
   "id": "b99252ff",
   "metadata": {},
   "source": [
    "### Pair 1 Graph for Decision Tree"
   ]
  },
  {
   "cell_type": "code",
   "execution_count": 114,
   "id": "eddda083",
   "metadata": {},
   "outputs": [
    {
     "data": {
      "image/png": "[encoded data removed]",
      "text/plain": [
       "<Figure size 1440x360 with 2 Axes>"
      ]
     },
     "metadata": {
      "needs_background": "light"
     },
     "output_type": "display_data"
    }
   ],
   "source": [
    "plot_search_results(pair1_dTreeModel)"
   ]
  },
  {
   "cell_type": "markdown",
   "id": "d658f297",
   "metadata": {},
   "source": [
    "### Pair 2 Graph for Decision Tree"
   ]
  },
  {
   "cell_type": "code",
   "execution_count": 115,
   "id": "7d888fa4",
   "metadata": {},
   "outputs": [
    {
     "data": {
      "image/png": "[encoded data removed]",
      "text/plain": [
       "<Figure size 1440x360 with 2 Axes>"
      ]
     },
     "metadata": {
      "needs_background": "light"
     },
     "output_type": "display_data"
    }
   ],
   "source": [
    "plot_search_results(pair2_dTreeModel)"
   ]
  },
  {
   "cell_type": "markdown",
   "id": "7dee101a",
   "metadata": {},
   "source": [
    "### Pair 3 Graph for Decision Tree"
   ]
  },
  {
   "cell_type": "code",
   "execution_count": 116,
   "id": "93ea5a72",
   "metadata": {},
   "outputs": [
    {
     "data": {
      "image/png": "[encoded data removed]",
      "text/plain": [
       "<Figure size 1440x360 with 2 Axes>"
      ]
     },
     "metadata": {
      "needs_background": "light"
     },
     "output_type": "display_data"
    }
   ],
   "source": [
    "plot_search_results(pair3_dTreeModel)"
   ]
  },
  {
   "cell_type": "markdown",
   "id": "1f8c1819",
   "metadata": {},
   "source": [
    "## Random Forest"
   ]
  },
  {
   "cell_type": "code",
   "execution_count": 122,
   "id": "b25daf51",
   "metadata": {},
   "outputs": [
    {
     "name": "stdout",
     "output_type": "stream",
     "text": [
      "Result for first set:  {'max_depth': 10, 'n_estimators': 100}\n",
      "Score for first set:  0.9705660377358492\n",
      "\n",
      "Result for second set:  {'max_depth': 8, 'n_estimators': 60}\n",
      "Score for second set:  0.9985915492957746\n",
      "\n",
      "Result for third set:  {'max_depth': 6, 'n_estimators': 60}\n",
      "Score for third set:  1.0\n"
     ]
    }
   ],
   "source": [
    "n_estimators = [20,40,60,80,100]\n",
    "max_depth = [4,6,8,10,12]\n",
    "tune_hyper_2 = dict(n_estimators=n_estimators,max_depth=max_depth)\n",
    "\n",
    "rForestModel = RandomForestClassifier()\n",
    "\n",
    "pair1_rForestModel = GridSearchCV(rForestModel, tune_hyper_2, cv=5)\n",
    "pair2_rForestModel = GridSearchCV(rForestModel, tune_hyper_2, cv=5)\n",
    "pair3_rForestModel = GridSearchCV(rForestModel, tune_hyper_2, cv=5)\n",
    "\n",
    "pair1_rForestModel_fit = pair1_rForestModel.fit(X_pair1_train,y_pair1_train)\n",
    "print('Result for first set: ', pair1_rForestModel_fit.best_params_)\n",
    "print(\"Score for first set: \", pair1_rForestModel_fit.best_score_)\n",
    "print(\"\")\n",
    "pair2_rForestModel_fit = pair2_rForestModel.fit(X_pair2_train,y_pair2_train)\n",
    "print('Result for second set: ', pair2_rForestModel_fit.best_params_)\n",
    "print(\"Score for second set: \", pair2_rForestModel_fit.best_score_)\n",
    "print(\"\")\n",
    "pair3_rForestModel_fit = pair3_rForestModel.fit(X_pair3_train,y_pair3_train)\n",
    "print('Result for third set: ', pair3_rForestModel_fit.best_params_)\n",
    "print(\"Score for third set: \", pair3_rForestModel_fit.best_score_)"
   ]
  },
  {
   "cell_type": "markdown",
   "id": "e172ef69",
   "metadata": {},
   "source": [
    "### Graphs of the cross validation results for Random Forest"
   ]
  },
  {
   "cell_type": "markdown",
   "id": "42e1fc3f",
   "metadata": {},
   "source": [
    "### Pair 1 Graph for Random Forest"
   ]
  },
  {
   "cell_type": "code",
   "execution_count": 123,
   "id": "3da54313",
   "metadata": {},
   "outputs": [
    {
     "data": {
      "image/png": "[encoded data removed]",
      "text/plain": [
       "<Figure size 1440x360 with 2 Axes>"
      ]
     },
     "metadata": {
      "needs_background": "light"
     },
     "output_type": "display_data"
    }
   ],
   "source": [
    "plot_search_results(pair1_rForestModel)"
   ]
  },
  {
   "cell_type": "markdown",
   "id": "14cf6d76",
   "metadata": {},
   "source": [
    "### Pair 2 Graph for Random Forest"
   ]
  },
  {
   "cell_type": "code",
   "execution_count": 124,
   "id": "1786c0dd",
   "metadata": {},
   "outputs": [
    {
     "data": {
      "image/png": "[encoded data removed]",
      "text/plain": [
       "<Figure size 1440x360 with 2 Axes>"
      ]
     },
     "metadata": {
      "needs_background": "light"
     },
     "output_type": "display_data"
    }
   ],
   "source": [
    "plot_search_results(pair2_rForestModel)"
   ]
  },
  {
   "cell_type": "markdown",
   "id": "69ad341a",
   "metadata": {},
   "source": [
    "### Pair 3 Graph for Random Forest"
   ]
  },
  {
   "cell_type": "code",
   "execution_count": 125,
   "id": "e6e2bca1",
   "metadata": {},
   "outputs": [
    {
     "data": {
      "image/png": "[encoded data removed]",
      "text/plain": [
       "<Figure size 1440x360 with 2 Axes>"
      ]
     },
     "metadata": {
      "needs_background": "light"
     },
     "output_type": "display_data"
    }
   ],
   "source": [
    "plot_search_results(pair3_rForestModel)"
   ]
  },
  {
   "cell_type": "markdown",
   "id": "0e69d148",
   "metadata": {},
   "source": [
    "## SVM"
   ]
  },
  {
   "cell_type": "code",
   "execution_count": 126,
   "id": "5d35dc17",
   "metadata": {},
   "outputs": [
    {
     "name": "stdout",
     "output_type": "stream",
     "text": [
      "Result for first set: {'C': 10, 'gamma': 0.01, 'kernel': 'rbf'}\n",
      "Score for first set:  0.9818867924528302\n",
      "\n",
      "Result for second set: {'C': 1, 'gamma': 0.1, 'kernel': 'rbf'}\n",
      "Score for second set:  0.9985915492957746\n",
      "\n",
      "Result for third set: {'C': 1, 'gamma': 0.1, 'kernel': 'rbf'}\n",
      "Score for third set:  1.0\n"
     ]
    }
   ],
   "source": [
    "kernel = ['rbf']\n",
    "C = [0.1, 1, 10, 100, 1000]\n",
    "gamma = [1, 0.1, 0.01, 0.001, 0.0001]\n",
    "tune_hyper_3 = dict(kernel=kernel, gamma=gamma,C=C)\n",
    "\n",
    "svmModel = SVC()\n",
    "\n",
    "pair1_svmModel = GridSearchCV(svmModel, tune_hyper_3, cv=5)\n",
    "pair2_svmModel = GridSearchCV(svmModel, tune_hyper_3, cv=5)\n",
    "pair3_svmModel = GridSearchCV(svmModel, tune_hyper_3, cv=5)\n",
    "\n",
    "pair1_svmModel_fit = pair1_svmModel.fit(X_pair1_train,y_pair1_train)\n",
    "print('Result for first set:', pair1_svmModel_fit.best_params_)\n",
    "print(\"Score for first set: \", pair1_svmModel_fit.best_score_)\n",
    "print(\"\")\n",
    "pair2_svmModel_fit = pair2_svmModel.fit(X_pair2_train,y_pair2_train)\n",
    "print('Result for second set:', pair2_svmModel_fit.best_params_)\n",
    "print(\"Score for second set: \", pair2_svmModel_fit.best_score_)\n",
    "print(\"\")\n",
    "pair3_svmModel_fit = pair3_svmModel.fit(X_pair3_train,y_pair3_train)\n",
    "print('Result for third set:', pair3_svmModel_fit.best_params_)\n",
    "print(\"Score for third set: \", pair3_svmModel_fit.best_score_)"
   ]
  },
  {
   "cell_type": "markdown",
   "id": "31300cf3",
   "metadata": {},
   "source": [
    "### Graphs of the cross validation results for SVM"
   ]
  },
  {
   "cell_type": "markdown",
   "id": "f3da1a92",
   "metadata": {},
   "source": [
    "### Pair 1 Graph for SVM"
   ]
  },
  {
   "cell_type": "code",
   "execution_count": 129,
   "id": "ea11bfbb",
   "metadata": {},
   "outputs": [
    {
     "data": {
      "image/png": "[encoded data removed]",
      "text/plain": [
       "<Figure size 1440x360 with 3 Axes>"
      ]
     },
     "metadata": {
      "needs_background": "light"
     },
     "output_type": "display_data"
    }
   ],
   "source": [
    "plot_search_results(pair1_svmModel_fit)"
   ]
  },
  {
   "cell_type": "markdown",
   "id": "d7e902aa",
   "metadata": {},
   "source": [
    "### Pair 2 Graph for SVM"
   ]
  },
  {
   "cell_type": "code",
   "execution_count": 130,
   "id": "1ebacaf2",
   "metadata": {},
   "outputs": [
    {
     "data": {
      "image/png": "[encoded data removed]",
      "text/plain": [
       "<Figure size 1440x360 with 3 Axes>"
      ]
     },
     "metadata": {
      "needs_background": "light"
     },
     "output_type": "display_data"
    }
   ],
   "source": [
    "plot_search_results(pair2_svmModel_fit)"
   ]
  },
  {
   "cell_type": "markdown",
   "id": "63d443b9",
   "metadata": {},
   "source": [
    "### Pair 3 Graph for SVM"
   ]
  },
  {
   "cell_type": "code",
   "execution_count": 131,
   "id": "9ccc0da3",
   "metadata": {},
   "outputs": [
    {
     "data": {
      "image/png": "[encoded data removed]",
      "text/plain": [
       "<Figure size 1440x360 with 3 Axes>"
      ]
     },
     "metadata": {
      "needs_background": "light"
     },
     "output_type": "display_data"
    }
   ],
   "source": [
    "plot_search_results(pair3_svmModel_fit)"
   ]
  },
  {
   "cell_type": "markdown",
   "id": "9b191bf2",
   "metadata": {},
   "source": [
    "## Artifical Neural Network"
   ]
  }
 ],
 "metadata": {
  "kernelspec": {
   "display_name": "Python 3",
   "language": "python",
   "name": "python3"
  },
  "language_info": {
   "codemirror_mode": {
    "name": "ipython",
    "version": 3
   },
   "file_extension": ".py",
   "mimetype": "text/x-python",
   "name": "python",
   "nbconvert_exporter": "python",
   "pygments_lexer": "ipython3",
   "version": "3.7.11"
  }
 },
 "nbformat": 4,
 "nbformat_minor": 5
}
